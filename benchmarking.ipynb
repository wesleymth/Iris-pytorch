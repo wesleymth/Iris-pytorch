{
 "cells": [
  {
   "cell_type": "code",
   "execution_count": 3,
   "metadata": {},
   "outputs": [],
   "source": [
    "import numpy as np\n",
    "import torch\n",
    "import tqdm\n",
    "import random\n",
    "import timeit\n",
    "random.seed(0)"
   ]
  },
  {
   "cell_type": "code",
   "execution_count": 4,
   "metadata": {},
   "outputs": [],
   "source": [
    "EPOCHS = 10000000"
   ]
  },
  {
   "cell_type": "code",
   "execution_count": 5,
   "metadata": {},
   "outputs": [],
   "source": [
    "# start = timeit.default_timer()\n",
    "# ########\n",
    "# end = timeit.default_timer()\n",
    "# print(end-start,'\\n')"
   ]
  },
  {
   "cell_type": "code",
   "execution_count": 6,
   "metadata": {},
   "outputs": [],
   "source": [
    "def numpy_zeros(epochs):\n",
    "    a = np.zeros(epochs)\n",
    "    b = np.zeros(epochs)\n",
    "    c = np.zeros(epochs)\n",
    "    d = np.zeros(epochs)\n",
    "    for epoch in tqdm.trange(epochs):\n",
    "        r = random.random()\n",
    "        a[epoch] = r\n",
    "        b[epoch] = r\n",
    "        c[epoch] = r\n",
    "        d[epoch] = r\n",
    "\n",
    "def numpy_empty(epochs):\n",
    "    a = np.empty(epochs)\n",
    "    b = np.empty(epochs)\n",
    "    c = np.empty(epochs)\n",
    "    d = np.empty(epochs)\n",
    "    for epoch in tqdm.trange(epochs):\n",
    "        r = random.random()\n",
    "        a[epoch] = r\n",
    "        b[epoch] = r\n",
    "        c[epoch] = r\n",
    "        d[epoch] = r\n",
    "\n",
    "def list_append(epochs):\n",
    "    a, b, c, d = [], [], [], []\n",
    "    for epoch in tqdm.trange(epochs):\n",
    "        r = random.random()\n",
    "        a.append(r)\n",
    "        b.append(r)\n",
    "        c.append(r)\n",
    "        d.append(r)\n",
    "\n",
    "def list_predefined(epochs):\n",
    "    a, b, c, d = [0 for _ in range(epochs)], [0 for _ in range(epochs)],[0 for _ in range(epochs)],[0 for _ in range(epochs)]\n",
    "    for epoch in tqdm.trange(epochs):\n",
    "        r = random.random()\n",
    "        a[epoch] = r\n",
    "        b[epoch] = r\n",
    "        c[epoch] = r\n",
    "        d[epoch] = r\n",
    "\n",
    "\n",
    "\n",
    "def tensor_zeros(epochs):\n",
    "    a = torch.zeros(epochs)\n",
    "    b = torch.zeros(epochs)\n",
    "    c = torch.zeros(epochs)\n",
    "    d = torch.zeros(epochs)\n",
    "    for epoch in tqdm.trange(epochs):\n",
    "        r = random.random()\n",
    "        a[epoch] = r\n",
    "        b[epoch] = r\n",
    "        c[epoch] = r\n",
    "        d[epoch] = r\n",
    "\n",
    "\n",
    "def tensor_empty(epochs):\n",
    "    a = torch.empty(epochs)\n",
    "    b = torch.empty(epochs)\n",
    "    c = torch.empty(epochs)\n",
    "    d = torch.empty(epochs)\n",
    "    for epoch in tqdm.trange(epochs):\n",
    "        r = random.random()\n",
    "        a[epoch] = r\n",
    "        b[epoch] = r\n",
    "        c[epoch] = r\n",
    "        d[epoch] = r\n"
   ]
  },
  {
   "cell_type": "code",
   "execution_count": 7,
   "metadata": {},
   "outputs": [],
   "source": [
    "a, b, c, d = [], [], [], []"
   ]
  },
  {
   "cell_type": "code",
   "execution_count": 8,
   "metadata": {},
   "outputs": [
    {
     "name": "stdout",
     "output_type": "stream",
     "text": [
      "\n",
      "The time it took to complete : numpy_zeros \n"
     ]
    },
    {
     "name": "stderr",
     "output_type": "stream",
     "text": [
      "100%|██████████| 10000000/10000000 [00:06<00:00, 1508012.47it/s]\n"
     ]
    },
    {
     "name": "stdout",
     "output_type": "stream",
     "text": [
      "6.69042897199688 \n",
      "\n",
      "The time it took to complete : numpy_empty \n"
     ]
    },
    {
     "name": "stderr",
     "output_type": "stream",
     "text": [
      "  7%|▋         | 673249/10000000 [00:00<00:05, 1601037.67it/s]\n"
     ]
    },
    {
     "ename": "KeyboardInterrupt",
     "evalue": "",
     "output_type": "error",
     "traceback": [
      "\u001b[0;31m---------------------------------------------------------------------------\u001b[0m",
      "\u001b[0;31mKeyboardInterrupt\u001b[0m                         Traceback (most recent call last)",
      "\u001b[1;32m/Users/wesleymonteith/Documents/EPFL/Summer_Canada/Iris-pytorch/benchmarking.ipynb Cell 6\u001b[0m in \u001b[0;36m<cell line: 3>\u001b[0;34m()\u001b[0m\n\u001b[1;32m      <a href='vscode-notebook-cell:/Users/wesleymonteith/Documents/EPFL/Summer_Canada/Iris-pytorch/benchmarking.ipynb#W4sZmlsZQ%3D%3D?line=3'>4</a>\u001b[0m \u001b[39mprint\u001b[39m(\u001b[39mf\u001b[39m\u001b[39m'\u001b[39m\u001b[39mThe time it took to complete : \u001b[39m\u001b[39m{\u001b[39;00mname\u001b[39m}\u001b[39;00m\u001b[39m \u001b[39m\u001b[39m'\u001b[39m)\n\u001b[1;32m      <a href='vscode-notebook-cell:/Users/wesleymonteith/Documents/EPFL/Summer_Canada/Iris-pytorch/benchmarking.ipynb#W4sZmlsZQ%3D%3D?line=4'>5</a>\u001b[0m start \u001b[39m=\u001b[39m timeit\u001b[39m.\u001b[39mdefault_timer()\n\u001b[0;32m----> <a href='vscode-notebook-cell:/Users/wesleymonteith/Documents/EPFL/Summer_Canada/Iris-pytorch/benchmarking.ipynb#W4sZmlsZQ%3D%3D?line=5'>6</a>\u001b[0m fct(EPOCHS)\n\u001b[1;32m      <a href='vscode-notebook-cell:/Users/wesleymonteith/Documents/EPFL/Summer_Canada/Iris-pytorch/benchmarking.ipynb#W4sZmlsZQ%3D%3D?line=6'>7</a>\u001b[0m end \u001b[39m=\u001b[39m timeit\u001b[39m.\u001b[39mdefault_timer()\n\u001b[1;32m      <a href='vscode-notebook-cell:/Users/wesleymonteith/Documents/EPFL/Summer_Canada/Iris-pytorch/benchmarking.ipynb#W4sZmlsZQ%3D%3D?line=7'>8</a>\u001b[0m \u001b[39mprint\u001b[39m(end\u001b[39m-\u001b[39mstart,\u001b[39m'\u001b[39m\u001b[39m\\n\u001b[39;00m\u001b[39m'\u001b[39m)\n",
      "\u001b[1;32m/Users/wesleymonteith/Documents/EPFL/Summer_Canada/Iris-pytorch/benchmarking.ipynb Cell 6\u001b[0m in \u001b[0;36mnumpy_empty\u001b[0;34m(epochs)\u001b[0m\n\u001b[1;32m     <a href='vscode-notebook-cell:/Users/wesleymonteith/Documents/EPFL/Summer_Canada/Iris-pytorch/benchmarking.ipynb#W4sZmlsZQ%3D%3D?line=18'>19</a>\u001b[0m r \u001b[39m=\u001b[39m random\u001b[39m.\u001b[39mrandom()\n\u001b[1;32m     <a href='vscode-notebook-cell:/Users/wesleymonteith/Documents/EPFL/Summer_Canada/Iris-pytorch/benchmarking.ipynb#W4sZmlsZQ%3D%3D?line=19'>20</a>\u001b[0m a[epoch] \u001b[39m=\u001b[39m r\n\u001b[0;32m---> <a href='vscode-notebook-cell:/Users/wesleymonteith/Documents/EPFL/Summer_Canada/Iris-pytorch/benchmarking.ipynb#W4sZmlsZQ%3D%3D?line=20'>21</a>\u001b[0m b[epoch] \u001b[39m=\u001b[39m r\n\u001b[1;32m     <a href='vscode-notebook-cell:/Users/wesleymonteith/Documents/EPFL/Summer_Canada/Iris-pytorch/benchmarking.ipynb#W4sZmlsZQ%3D%3D?line=21'>22</a>\u001b[0m c[epoch] \u001b[39m=\u001b[39m r\n\u001b[1;32m     <a href='vscode-notebook-cell:/Users/wesleymonteith/Documents/EPFL/Summer_Canada/Iris-pytorch/benchmarking.ipynb#W4sZmlsZQ%3D%3D?line=22'>23</a>\u001b[0m d[epoch] \u001b[39m=\u001b[39m r\n",
      "\u001b[0;31mKeyboardInterrupt\u001b[0m: "
     ]
    }
   ],
   "source": [
    "print()\n",
    "\n",
    "for fct, name in zip([numpy_zeros, numpy_empty, list_append, list_predefined, tensor_zeros, tensor_empty],[\"numpy_zeros\", \"numpy_empty\", \"list_append\", \"list_predefined\", \"tensor_zeros\", \"tensor_empty\"]):\n",
    "    print(f'The time it took to complete : {name} ')\n",
    "    start = timeit.default_timer()\n",
    "    fct(EPOCHS)\n",
    "    end = timeit.default_timer()\n",
    "    print(end-start,'\\n')"
   ]
  },
  {
   "cell_type": "markdown",
   "metadata": {},
   "source": [
    "## Diffence between torch.empty and torch.tensor"
   ]
  },
  {
   "cell_type": "code",
   "execution_count": 13,
   "metadata": {},
   "outputs": [
    {
     "name": "stdout",
     "output_type": "stream",
     "text": [
      "2.082114840995928 \n",
      "\n",
      "3.251881449999928 \n",
      "\n",
      "2.206840196005942 \n",
      "\n"
     ]
    }
   ],
   "source": [
    "range_ = 1000000\n",
    "\n",
    "start = timeit.default_timer()\n",
    "for _ in range(range_):\n",
    "    a = torch.empty((2,3,4),device='cpu')\n",
    "end = timeit.default_timer()\n",
    "print(end-start,'\\n')\n",
    "\n",
    "start = timeit.default_timer()\n",
    "for _ in range(range_):\n",
    "    a = torch.Tensor((2,3,4),device='cpu')\n",
    "end = timeit.default_timer()\n",
    "print(end-start,'\\n')\n",
    "\n",
    "start = timeit.default_timer()\n",
    "for _ in range(range_):\n",
    "    a = torch.zeros((2,3,4),device='cpu')\n",
    "end = timeit.default_timer()\n",
    "print(end-start,'\\n')"
   ]
  },
  {
   "cell_type": "code",
   "execution_count": null,
   "metadata": {},
   "outputs": [],
   "source": []
  }
 ],
 "metadata": {
  "kernelspec": {
   "display_name": "Python 3.8.13 ('teaching')",
   "language": "python",
   "name": "python3"
  },
  "language_info": {
   "codemirror_mode": {
    "name": "ipython",
    "version": 3
   },
   "file_extension": ".py",
   "mimetype": "text/x-python",
   "name": "python",
   "nbconvert_exporter": "python",
   "pygments_lexer": "ipython3",
   "version": "3.8.13"
  },
  "orig_nbformat": 4,
  "vscode": {
   "interpreter": {
    "hash": "2142a618935ee31125fbb97f06401dd4f60968dd5a549a21d575788564038767"
   }
  }
 },
 "nbformat": 4,
 "nbformat_minor": 2
}
