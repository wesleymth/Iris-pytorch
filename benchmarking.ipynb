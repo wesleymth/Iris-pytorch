{
 "cells": [
  {
   "cell_type": "code",
   "execution_count": 1,
   "metadata": {},
   "outputs": [],
   "source": [
    "import numpy as np\n",
    "import torch\n",
    "import tqdm\n",
    "import random\n",
    "import timeit\n",
    "random.seed(0)"
   ]
  },
  {
   "cell_type": "code",
   "execution_count": 2,
   "metadata": {},
   "outputs": [],
   "source": [
    "EPOCHS = 10000000"
   ]
  },
  {
   "cell_type": "code",
   "execution_count": 3,
   "metadata": {},
   "outputs": [],
   "source": [
    "def numpy_zeros(epochs):\n",
    "    a = np.zeros(epochs)\n",
    "    b = np.zeros(epochs)\n",
    "    c = np.zeros(epochs)\n",
    "    d = np.zeros(epochs)\n",
    "    for epoch in tqdm.trange(epochs):\n",
    "        r = random.random()\n",
    "        a[epoch] = r\n",
    "        b[epoch] = r\n",
    "        c[epoch] = r\n",
    "        d[epoch] = r\n",
    "\n",
    "def numpy_empty(epochs):\n",
    "    a = np.empty(epochs)\n",
    "    b = np.empty(epochs)\n",
    "    c = np.empty(epochs)\n",
    "    d = np.empty(epochs)\n",
    "    for epoch in tqdm.trange(epochs):\n",
    "        r = random.random()\n",
    "        a[epoch] = r\n",
    "        b[epoch] = r\n",
    "        c[epoch] = r\n",
    "        d[epoch] = r\n",
    "\n",
    "def list_append(epochs):\n",
    "    a, b, c, d = [], [], [], []\n",
    "    for epoch in tqdm.trange(epochs):\n",
    "        r = random.random()\n",
    "        a.append(r)\n",
    "        b.append(r)\n",
    "        c.append(r)\n",
    "        d.append(r)\n",
    "\n",
    "def list_predefined(epochs):\n",
    "    a, b, c, d = [0 for _ in range(epochs)], [0 for _ in range(epochs)],[0 for _ in range(epochs)],[0 for _ in range(epochs)]\n",
    "    for epoch in tqdm.trange(epochs):\n",
    "        r = random.random()\n",
    "        a[epoch] = r\n",
    "        b[epoch] = r\n",
    "        c[epoch] = r\n",
    "        d[epoch] = r\n",
    "\n",
    "\n",
    "\n",
    "def tensor_zeros(epochs):\n",
    "    a = torch.zeros(epochs)\n",
    "    b = torch.zeros(epochs)\n",
    "    c = torch.zeros(epochs)\n",
    "    d = torch.zeros(epochs)\n",
    "    for epoch in tqdm.trange(epochs):\n",
    "        r = random.random()\n",
    "        a[epoch] = r\n",
    "        b[epoch] = r\n",
    "        c[epoch] = r\n",
    "        d[epoch] = r\n",
    "\n",
    "\n",
    "def tensor_empty(epochs):\n",
    "    a = torch.empty(epochs)\n",
    "    b = torch.empty(epochs)\n",
    "    c = torch.empty(epochs)\n",
    "    d = torch.empty(epochs)\n",
    "    for epoch in tqdm.trange(epochs):\n",
    "        r = random.random()\n",
    "        a[epoch] = r\n",
    "        b[epoch] = r\n",
    "        c[epoch] = r\n",
    "        d[epoch] = r\n"
   ]
  },
  {
   "cell_type": "code",
   "execution_count": 4,
   "metadata": {},
   "outputs": [],
   "source": [
    "a, b, c, d = [], [], [], []"
   ]
  },
  {
   "cell_type": "code",
   "execution_count": 5,
   "metadata": {},
   "outputs": [
    {
     "name": "stdout",
     "output_type": "stream",
     "text": [
      "\n",
      "The time it took to complete : numpy_zeros \n"
     ]
    },
    {
     "name": "stderr",
     "output_type": "stream",
     "text": [
      "100%|██████████| 10000000/10000000 [00:05<00:00, 1683470.52it/s]\n"
     ]
    },
    {
     "name": "stdout",
     "output_type": "stream",
     "text": [
      "5.986239807000004 \n",
      "\n",
      "The time it took to complete : numpy_empty \n"
     ]
    },
    {
     "name": "stderr",
     "output_type": "stream",
     "text": [
      "100%|██████████| 10000000/10000000 [00:05<00:00, 1804284.82it/s]\n"
     ]
    },
    {
     "name": "stdout",
     "output_type": "stream",
     "text": [
      "5.568481004999995 \n",
      "\n",
      "The time it took to complete : list_append \n"
     ]
    },
    {
     "name": "stderr",
     "output_type": "stream",
     "text": [
      "100%|██████████| 10000000/10000000 [00:04<00:00, 2115613.69it/s]\n"
     ]
    },
    {
     "name": "stdout",
     "output_type": "stream",
     "text": [
      "5.103529289999983 \n",
      "\n",
      "The time it took to complete : list_predefined \n"
     ]
    },
    {
     "name": "stderr",
     "output_type": "stream",
     "text": [
      "100%|██████████| 10000000/10000000 [00:03<00:00, 2577487.55it/s]\n"
     ]
    },
    {
     "name": "stdout",
     "output_type": "stream",
     "text": [
      "5.457111288999982 \n",
      "\n",
      "The time it took to complete : tensor_zeros \n"
     ]
    },
    {
     "name": "stderr",
     "output_type": "stream",
     "text": [
      " 11%|█         | 1124694/10000000 [00:12<01:41, 87194.41it/s]"
     ]
    }
   ],
   "source": [
    "print()\n",
    "\n",
    "for fct, name in zip([numpy_zeros, numpy_empty, list_append, list_predefined, tensor_zeros, tensor_empty],[\"numpy_zeros\", \"numpy_empty\", \"list_append\", \"list_predefined\", \"tensor_zeros\", \"tensor_empty\"]):\n",
    "    print(f'The time it took to complete : {name} ')\n",
    "    start = timeit.default_timer()\n",
    "    fct(EPOCHS)\n",
    "    end = timeit.default_timer()\n",
    "    print(end-start,'\\n')"
   ]
  }
 ],
 "metadata": {
  "kernelspec": {
   "display_name": "Python 3.8.13 ('teaching')",
   "language": "python",
   "name": "python3"
  },
  "language_info": {
   "codemirror_mode": {
    "name": "ipython",
    "version": 3
   },
   "file_extension": ".py",
   "mimetype": "text/x-python",
   "name": "python",
   "nbconvert_exporter": "python",
   "pygments_lexer": "ipython3",
   "version": "3.8.13"
  },
  "orig_nbformat": 4,
  "vscode": {
   "interpreter": {
    "hash": "2142a618935ee31125fbb97f06401dd4f60968dd5a549a21d575788564038767"
   }
  }
 },
 "nbformat": 4,
 "nbformat_minor": 2
}
