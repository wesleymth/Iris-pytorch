{
 "cells": [
  {
   "cell_type": "markdown",
   "metadata": {},
   "source": [
    "# Get the data using these functions:"
   ]
  },
  {
   "cell_type": "code",
   "execution_count": 21,
   "metadata": {},
   "outputs": [],
   "source": [
    "import torch\n",
    "from sklearn.datasets import load_iris\n",
    "from sklearn.model_selection import train_test_split\n",
    "from torch.utils.data import TensorDataset\n",
    "from torch.utils.data import DataLoader\n",
    "\n",
    "\n",
    "torch.manual_seed(0)\n",
    "\n",
    "import random\n",
    "random.seed(0)\n",
    "\n",
    "import numpy as np\n",
    "np.random.seed(0)\n",
    "\n",
    "\n",
    "def load_data(test_size=0.2):\n",
    "    iris=load_iris()\n",
    "    X=iris.data\n",
    "    y=iris.target\n",
    "    X_train,X_test,y_train,y_test = train_test_split(X,y,test_size=test_size)\n",
    "    X_train, y_train, X_test, y_test = map(\n",
    "    torch.tensor, (X_train, y_train, X_test, y_test)\n",
    ")\n",
    "    return X_train.float(),X_test.float(),y_train,y_test\n",
    "\n",
    "def get_data_as_dataloaders(train_ds : TensorDataset, test_ds : TensorDataset, batch_size : int):\n",
    "    return (\n",
    "        DataLoader(train_ds, batch_size, shuffle=True),\n",
    "        DataLoader(test_ds, batch_size=batch_size * 2),\n",
    "    )"
   ]
  },
  {
   "cell_type": "markdown",
   "metadata": {},
   "source": [
    "# Neural network using nn.Module"
   ]
  },
  {
   "cell_type": "code",
   "execution_count": 22,
   "metadata": {},
   "outputs": [],
   "source": [
    "\n",
    "import torch.nn as nn       \n",
    "import torch.nn.functional as F \n",
    "\n",
    "class IrisClassifier(nn.Module):\n",
    "    \n",
    "    def __init__(self):\n",
    "        super(IrisClassifier, self).__init__()\n",
    "        self.layer1 = nn.Linear(4, 120)\n",
    "        self.layer2 = nn.Linear(120, 64)\n",
    "        self.layer3 = nn.Linear(64, 12)\n",
    "        self.layer4 = nn.Linear(12, 3)\n",
    "        self.ReLU = nn.ReLU()\n",
    "        \n",
    "        \n",
    "    def forward(self, x):\n",
    "        z = self.ReLU(self.layer1(x))\n",
    "        z = self.ReLU(self.layer2(z))\n",
    "        z = self.ReLU(self.layer3(z))\n",
    "        z = self.ReLU(self.layer4(z))\n",
    "        z = F.softmax(z, dim=1)\n",
    "        return z"
   ]
  },
  {
   "cell_type": "markdown",
   "metadata": {},
   "source": [
    "# Get the model and optimizer using this function"
   ]
  },
  {
   "cell_type": "code",
   "execution_count": 23,
   "metadata": {},
   "outputs": [],
   "source": [
    "\n",
    "### Get the model\n",
    "\n",
    "import torch.optim as optim\n",
    "\n",
    "def get_model_with_optimizer(lr, momentum):\n",
    "    model = IrisClassifier()\n",
    "    return model, optim.SGD(model.parameters(), lr=lr, momentum=momentum)"
   ]
  },
  {
   "cell_type": "markdown",
   "metadata": {},
   "source": [
    "model = IrisClassifier()\n",
    "opt_fn = optim.SGD()\n",
    "optimizer = opt_fn(model.parameters(), lr=0.1, momentum=0.9)\n",
    "print(optimizer)\n",
    "\n",
    "opt = optim.SGD(model.parameters(), lr=0.1, momentum=0.9)\n",
    "\n",
    "print(opt)\n",
    "\n",
    "# \n",
    "# \n",
    "# \n",
    "# \n",
    "# DOESNT WORK"
   ]
  },
  {
   "cell_type": "markdown",
   "metadata": {},
   "source": [
    "# Coding the training loop i.e. the fit() function"
   ]
  },
  {
   "cell_type": "markdown",
   "metadata": {},
   "source": [
    "### Option 1.1\n",
    "\n",
    "Inspired from nn.tutorial.ipynb"
   ]
  },
  {
   "cell_type": "code",
   "execution_count": 27,
   "metadata": {},
   "outputs": [],
   "source": [
    "import numpy as np\n",
    "import tqdm\n",
    "\n",
    "def fit(model, epochs, train_dataloader, test_dataloader, optimizer=None, criterion=nn.CrossEntropyLoss()):\n",
    "    \n",
    "    train_loss_history=np.zeros((epochs,))\n",
    "    train_accuracy_history=np.zeros((epochs,))\n",
    "    test_loss_history=np.zeros((epochs,))\n",
    "    test_accuracy_history=np.zeros((epochs,))\n",
    "    \n",
    "    if optimizer == None: \n",
    "        optimizer = optim.SGD(model.parameters(), lr=0.1, momentum=0.9)\n",
    "    \n",
    "    #for epoch in range(epochs):  \n",
    "    for epoch in tqdm.trange(epochs):\n",
    "        model.train() # Training the model\n",
    "        for x_training_batches, y_training_labels in train_dataloader:\n",
    "            \n",
    "            output = model(x_training_batches.float())\n",
    "            loss = criterion(output, y_training_labels)\n",
    "            \n",
    "            # Save the loss of the training set at each epoch\n",
    "            train_loss_history[epoch] += loss.item()\n",
    "            \n",
    "            # Zero gradients\n",
    "            loss.backward()\n",
    "            optimizer.step()\n",
    "            optimizer.zero_grad()\n",
    "        \n",
    "            with torch.no_grad():\n",
    "                prediction = torch.max(output, 1)[1] # get the index of the max log-probability\n",
    "                train_accuracy_history[epoch] += float(sum(prediction == y_training_labels)/prediction.shape[0])\n",
    "        \n",
    "        model.eval() # Evaluating the model\n",
    "        for x_test_batches, y_test_labels in test_dataloader:\n",
    "            with torch.no_grad():\n",
    "                output = model(x_test_batches)\n",
    "                loss = criterion(output, y_test_labels)\n",
    "                test_loss_history[epoch] += loss.item()\n",
    "                prediction = torch.max(output, 1)[1] # get the index of the max log-probability\n",
    "                test_accuracy_history[epoch] += float(sum(prediction == y_test_labels)/prediction.shape[0])\n",
    "                \n",
    "                \n",
    "    train_loss_history /= len(train_dataloader)\n",
    "    train_accuracy_history /= len(train_dataloader)\n",
    "    test_loss_history /= len(test_dataloader)\n",
    "    test_accuracy_history /= len(test_dataloader)\n",
    "    \n",
    "    return (train_loss_history,\n",
    "            train_accuracy_history,\n",
    "            test_loss_history,\n",
    "            test_accuracy_history)\n",
    "        \n",
    "        \n"
   ]
  },
  {
   "cell_type": "markdown",
   "metadata": {},
   "source": [
    "### Option 2\n",
    "\n",
    "Inspired from https://www.cs.toronto.edu/~lczhang/360/lec/w03/nn.html"
   ]
  },
  {
   "cell_type": "markdown",
   "metadata": {},
   "source": [
    "# Option 2\n",
    "\n",
    "def train(model, data, batch_size=64, num_epochs=1, criterion = nn.CrossEntropyLoss()):\n",
    "    train_loader = DataLoader(data, batch_size=batch_size)\n",
    "    optimizer = optim.SGD(model.parameters(), lr=0.01, momentum=0.9)\n",
    "\n",
    "    losses, train_acc, val_acc = [], [], []\n",
    "\n",
    "    # training\n",
    "    for epoch in range(num_epochs):\n",
    "        for imgs, labels in iter(train_loader):\n",
    "            model.train()\n",
    "            out = model(imgs)             # forward pass\n",
    "            loss = criterion(out, labels) # compute the total loss\n",
    "            loss.backward()               # backward pass (compute parameter updates)\n",
    "            optimizer.step()              # make the updates for each parameter\n",
    "            optimizer.zero_grad()         # a clean up step for PyTorch\n",
    "\n",
    "            \n",
    "            # save the current training information\n",
    "            losses.append(float(loss)/batch_size)             # compute *average* loss\n",
    "            train_acc.append(get_accuracy(model, train=True)) # compute training accuracy \n",
    "            val_acc.append(get_accuracy(model, train=False))  # compute validation accuracy\n",
    "            \n",
    "def get_accuracy(model, train=False):\n",
    "    if train:\n",
    "        data = iris_train\n",
    "    else:\n",
    "        data = iris_test\n",
    "\n",
    "    correct = 0\n",
    "    total = 0\n",
    "    for imgs, labels in DataLoader(data, batch_size=64):\n",
    "        output = model(imgs) # We don't need to run F.softmax\n",
    "        pred = output.max(1, keepdim=True)[1] # get the index of the max log-probability\n",
    "        correct += pred.eq(labels.view_as(pred)).sum().item()\n",
    "        total += imgs.shape[0]\n",
    "    return correct / total"
   ]
  },
  {
   "cell_type": "markdown",
   "metadata": {},
   "source": [
    "### Option 1.2\n",
    "\n",
    "Inspired from nn.tutorial.ipynb"
   ]
  },
  {
   "cell_type": "markdown",
   "metadata": {},
   "source": [
    "import numpy as np\n",
    "\n",
    "def loss_batch(model, loss_func, xb, yb, opt=None):\n",
    "    loss = loss_func(model(xb), yb)\n",
    "\n",
    "    if opt is not None:\n",
    "        loss.backward()\n",
    "        opt.step()\n",
    "        opt.zero_grad()\n",
    "\n",
    "    return loss.item(), len(xb)\n",
    "\n",
    "def fit(epochs, model, loss_func, opt, train_dl, valid_dl):\n",
    "    for epoch in range(epochs):\n",
    "        model.train()\n",
    "        for xb, yb in train_dl:\n",
    "            loss_batch(model, loss_func, xb, yb, opt)\n",
    "\n",
    "        model.eval()\n",
    "        with torch.no_grad():\n",
    "            losses, nums = zip(\n",
    "                *[loss_batch(model, loss_func, xb, yb) for xb, yb in valid_dl]\n",
    "            )\n",
    "        val_loss = np.sum(np.multiply(losses, nums)) / np.sum(nums)\n",
    "\n",
    "        print(epoch, val_loss)"
   ]
  },
  {
   "cell_type": "markdown",
   "metadata": {},
   "source": [
    "### Option 3\n",
    "From https://medium.datadriveninvestor.com/train-a-cnn-using-skorch-for-mnist-digit-recognition-53d7d2f971c7#:~:text=Skorch%20is%20a%20very%20recent,reduction%20of%20the%20boilerplate%20code."
   ]
  },
  {
   "cell_type": "markdown",
   "metadata": {},
   "source": [
    "import numpy as np\n",
    "import pandas as pd\n",
    "import torch\n",
    "import torch.nn as nn\n",
    "from torch.nn import functional as F\n",
    "import torch.optim as optim\n",
    "import torchvision\n",
    "from torchvision import datasets,transforms \n",
    "from torch.utils.data import Dataset, DataLoader,TensorDataset,random_split,SubsetRandomSampler\n",
    "from torchvision import datasets,transforms\n",
    "\n",
    "DEVICE = torch.device(\"cpu\")\n",
    "transform = torchvision.transforms.Compose([torchvision.transforms.ToTensor()])\n",
    "train_dataset = torchvision.datasets.MNIST('classifier_data', train=True, download=True,transform=transform)\n",
    "test_dataset  = torchvision.datasets.MNIST('classifier_data', train=False, download=True,transform=transform)\n",
    "m=len(train_dataset)\n",
    "train_data, val_data = random_split(train_dataset, [int(m-m*0.2), int(m*0.2)])\n",
    "train_loader = torch.utils.data.DataLoader(train_data, batch_size=64)\n",
    "valid_loader = torch.utils.data.DataLoader(val_data, batch_size=64)\n",
    "test_loader = torch.utils.data.DataLoader(test_dataset, batch_size=64,shuffle=True)\n",
    "class ConvNet(nn.Module):\n",
    "    def __init__(self,dropout_rate=0.4,dropout_rate2=0.2,l1=50):\n",
    "        # We optimize dropout rate in a convolutional neural network.\n",
    "        super(ConvNet, self).__init__()\n",
    "\n",
    "        self.conv1 = nn.Conv2d(in_channels=1, out_channels=16, kernel_size=5, stride=1, padding=2)\n",
    "\n",
    "        self.conv2 = nn.Conv2d(in_channels=16, out_channels=32, kernel_size=5, stride=1, padding=2)\n",
    "        self.drop1=nn.Dropout2d(p=dropout_rate)  \n",
    "        \n",
    "        self.fc1 = nn.Linear(32 * 7 * 7, l1)\n",
    "        self.drop2=nn.Dropout2d(p=dropout_rate2)\n",
    "        \n",
    "        self.fc2 = nn.Linear(l1, 10)\n",
    "\n",
    "    def forward(self, x):\n",
    "        \n",
    "        x = F.relu(F.max_pool2d(self.conv1(x),kernel_size = 2))\n",
    "        \n",
    "        x = F.relu(F.max_pool2d(self.conv2(x),kernel_size = 2))\n",
    "        x = self.drop1(x)\n",
    "        \n",
    "        x = x.view(x.size(0),-1)\n",
    "        x = F.relu(self.fc1(x))\n",
    "        \n",
    "        x = self.drop2(x)\n",
    "        x = self.fc2(x)\n",
    "        return x\n",
    "model = ConvNet()\n",
    "optimizer = torch.optim.Adam(model.parameters(), lr=1e-3)\n",
    "criterion= nn.CrossEntropyLoss()\n",
    "train_loss_history=[]\n",
    "val_loss_history=[]\n",
    "train_acc_history=[]\n",
    "val_acc_history=[]\n",
    "num_epochs=10\n",
    "\n",
    "for epoch in range(num_epochs):\n",
    "    \n",
    "    train_loss = 0.0\n",
    "    train_correct = 0\n",
    "    model.train()\n",
    "    for idx, (images, labels) in enumerate(train_loader):\n",
    "    \n",
    "        images,labels=images.to(DEVICE),labels.to(DEVICE)\n",
    "        optimizer.zero_grad() \n",
    "        output = model(images)\n",
    "        loss = criterion(output, labels)\n",
    "        loss.backward()\n",
    "        optimizer.step()\n",
    "        train_loss += loss.item()*images.size(0)\n",
    "        scores, predictions = torch.max(output.data, 1)\n",
    "        train_correct += (predictions == labels).sum().item()\n",
    "    \n",
    "    valid_loss=0.0\n",
    "    val_correct = 0\n",
    "    #Validate Model\n",
    "    model.eval()\n",
    "    for idx, (images, labels) in enumerate(valid_loader):\n",
    "        \n",
    "        images,labels=images.to(DEVICE),labels.to(DEVICE)\n",
    "        output = model(images)\n",
    "        loss = criterion(output, labels)\n",
    "        valid_loss += loss.item()*images.size(0)\n",
    "        scores, predictions = torch.max(output.data, 1)\n",
    "        val_correct += (predictions == labels).sum().item()\n",
    "    \n",
    "    train_loss = train_loss/len(train_loader.sampler)\n",
    "    valid_loss = valid_loss/len(valid_loader.sampler)\n",
    "    acc = train_correct/len(train_loader.sampler) * 100\n",
    "    val_acc = val_correct/len(valid_loader.sampler) * 100\n",
    "    train_loss_history.append(train_loss)\n",
    "    val_loss_history.append(valid_loss)\n",
    "    train_acc_history.append(acc)\n",
    "    val_acc_history.append(val_acc)\n",
    "    \n",
    "    print(\"Epoch:{}/{} \\t TL:{:.4f} \\t VL:{:.4f} \\t TA:{:.2f} %  \\t  VA:{:.2f} %\".format(epoch+1,num_epochs, \n",
    "                                                      train_loss,\n",
    "                                                      valid_loss,\n",
    "                                                      acc,\n",
    "                                                      val_acc))"
   ]
  },
  {
   "cell_type": "markdown",
   "metadata": {},
   "source": [
    "# Running the model"
   ]
  },
  {
   "cell_type": "code",
   "execution_count": 28,
   "metadata": {},
   "outputs": [
    {
     "name": "stdout",
     "output_type": "stream",
     "text": [
      "torch.Size([120, 4])\n",
      "torch.Size([120])\n"
     ]
    },
    {
     "name": "stderr",
     "output_type": "stream",
     "text": [
      "100%|██████████| 100/100 [00:01<00:00, 54.40it/s]"
     ]
    },
    {
     "name": "stdout",
     "output_type": "stream",
     "text": [
      "0.46666667113701504\n"
     ]
    },
    {
     "name": "stderr",
     "output_type": "stream",
     "text": [
      "\n"
     ]
    }
   ],
   "source": [
    "\n",
    "device = torch.device(\"cuda\") if torch.cuda.is_available() else torch.device(\"cpu\")\n",
    "lr = 0.001\n",
    "batch_size = 10\n",
    "epochs = 100\n",
    "momentum = 0.9\n",
    "\n",
    "X_train,X_test,y_train,y_test = load_data()\n",
    "print(X_train.shape)\n",
    "print(y_train.shape)\n",
    "train_dataset = TensorDataset(X_train, y_train)\n",
    "test_dataset = TensorDataset(X_test, y_test)\n",
    "train_dataloader, test_dataloader = get_data_as_dataloaders(train_dataset, test_dataset, batch_size)\n",
    "\n",
    "model, opt = get_model_with_optimizer(lr, momentum)\n",
    "loss_function = nn.CrossEntropyLoss()\n",
    "\n",
    "(train_loss_history,\n",
    "train_accuracy_history,\n",
    "test_loss_history,\n",
    "test_accuracy_history) = fit(model, epochs, train_dataloader, test_dataloader, optimizer=opt, criterion=loss_function)\n",
    "\n",
    "print(train_accuracy_history[-1])"
   ]
  },
  {
   "cell_type": "code",
   "execution_count": 26,
   "metadata": {},
   "outputs": [
    {
     "data": {
      "image/png": "[encoded data removed]",
      "text/plain": [
       "<Figure size 864x1440 with 4 Axes>"
      ]
     },
     "metadata": {
      "needs_background": "light"
     },
     "output_type": "display_data"
    }
   ],
   "source": [
    "import matplotlib.pyplot as plt\n",
    "\n",
    "fig, (ax1, ax2, ax3, ax4) = plt.subplots(4, figsize=(12, 20), sharex=True)\n",
    "\n",
    "ax1.plot(test_accuracy_history)\n",
    "ax1.set_ylabel(\"testing accuracy\")\n",
    "ax2.plot(test_loss_history)\n",
    "ax2.set_ylabel(\"testing loss\")\n",
    "ax3.plot(train_accuracy_history)\n",
    "ax3.set_ylabel(\"training accuracy\")\n",
    "ax4.plot(train_loss_history)\n",
    "ax4.set_ylabel(\"training loss\")\n",
    "ax4.set_xlabel(\"epochs\");"
   ]
  }
 ],
 "metadata": {
  "kernelspec": {
   "display_name": "Python 3.8.13 ('teaching')",
   "language": "python",
   "name": "python3"
  },
  "language_info": {
   "codemirror_mode": {
    "name": "ipython",
    "version": 3
   },
   "file_extension": ".py",
   "mimetype": "text/x-python",
   "name": "python",
   "nbconvert_exporter": "python",
   "pygments_lexer": "ipython3",
   "version": "3.8.13"
  },
  "orig_nbformat": 4,
  "vscode": {
   "interpreter": {
    "hash": "2142a618935ee31125fbb97f06401dd4f60968dd5a549a21d575788564038767"
   }
  }
 },
 "nbformat": 4,
 "nbformat_minor": 2
}
