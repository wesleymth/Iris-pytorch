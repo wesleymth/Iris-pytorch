{
 "cells": [
  {
   "cell_type": "code",
   "execution_count": 2,
   "metadata": {},
   "outputs": [],
   "source": [
    "import torch"
   ]
  },
  {
   "cell_type": "code",
   "execution_count": 10,
   "metadata": {},
   "outputs": [
    {
     "name": "stdout",
     "output_type": "stream",
     "text": [
      "tensor([[[[[6.8437e-01, 6.6645e-01],\n",
      "           [6.1420e-01, 9.7138e-01]],\n",
      "\n",
      "          [[9.0988e-03, 2.4010e-01],\n",
      "           [3.0941e-01, 6.4253e-01]]],\n",
      "\n",
      "\n",
      "         [[[8.1618e-01, 3.9186e-01],\n",
      "           [4.6245e-01, 1.0204e-01]],\n",
      "\n",
      "          [[7.0889e-01, 6.1421e-01],\n",
      "           [7.7820e-04, 1.0868e-01]]],\n",
      "\n",
      "\n",
      "         [[[8.9628e-01, 4.3327e-01],\n",
      "           [7.9367e-01, 4.3877e-01]],\n",
      "\n",
      "          [[1.2066e-01, 5.4817e-01],\n",
      "           [1.3070e-01, 8.5311e-01]]]],\n",
      "\n",
      "\n",
      "\n",
      "        [[[[4.3125e-01, 4.2810e-01],\n",
      "           [4.6653e-01, 4.0986e-01]],\n",
      "\n",
      "          [[3.5966e-01, 8.9811e-01],\n",
      "           [9.7829e-01, 8.2743e-01]]],\n",
      "\n",
      "\n",
      "         [[[9.9206e-01, 5.6373e-01],\n",
      "           [3.4476e-01, 7.7663e-01]],\n",
      "\n",
      "          [[5.1998e-01, 8.3694e-02],\n",
      "           [7.9849e-01, 8.6609e-01]]],\n",
      "\n",
      "\n",
      "         [[[4.1624e-01, 4.0059e-01],\n",
      "           [8.1382e-01, 8.1350e-01]],\n",
      "\n",
      "          [[8.1746e-01, 6.4996e-01],\n",
      "           [2.7230e-01, 3.6231e-01]]]],\n",
      "\n",
      "\n",
      "\n",
      "        [[[[5.6656e-01, 6.0794e-01],\n",
      "           [8.9278e-01, 4.0905e-01]],\n",
      "\n",
      "          [[1.7547e-01, 5.0205e-01],\n",
      "           [3.7804e-01, 6.8156e-02]]],\n",
      "\n",
      "\n",
      "         [[[3.9527e-01, 6.6111e-01],\n",
      "           [6.4028e-01, 7.7022e-01]],\n",
      "\n",
      "          [[2.4015e-01, 5.6094e-01],\n",
      "           [3.9608e-01, 8.2497e-01]]],\n",
      "\n",
      "\n",
      "         [[[8.0705e-01, 2.6673e-02],\n",
      "           [4.7541e-01, 8.7540e-01]],\n",
      "\n",
      "          [[5.2955e-01, 7.6557e-01],\n",
      "           [6.5913e-01, 6.5002e-01]]]],\n",
      "\n",
      "\n",
      "\n",
      "        [[[[9.1177e-01, 2.8498e-01],\n",
      "           [3.8364e-01, 7.4166e-01]],\n",
      "\n",
      "          [[5.8649e-01, 2.7601e-01],\n",
      "           [9.7595e-01, 7.5756e-01]]],\n",
      "\n",
      "\n",
      "         [[[3.5248e-01, 4.9711e-01],\n",
      "           [8.7970e-01, 7.6671e-01]],\n",
      "\n",
      "          [[1.0594e-01, 4.2446e-01],\n",
      "           [6.5901e-01, 3.9734e-01]]],\n",
      "\n",
      "\n",
      "         [[[2.6383e-01, 7.0065e-01],\n",
      "           [4.7572e-01, 9.1219e-01]],\n",
      "\n",
      "          [[4.0747e-01, 9.5299e-01],\n",
      "           [1.0136e-01, 3.6533e-01]]]]])\n"
     ]
    }
   ],
   "source": [
    "a = torch.rand((4,3,2,2,2))\n",
    "print(a)"
   ]
  },
  {
   "cell_type": "code",
   "execution_count": 12,
   "metadata": {},
   "outputs": [
    {
     "name": "stdout",
     "output_type": "stream",
     "text": [
      "tensor([[[[True, True],\n",
      "          [True, True]],\n",
      "\n",
      "         [[True, True],\n",
      "          [True, True]]],\n",
      "\n",
      "\n",
      "        [[[True, True],\n",
      "          [True, True]],\n",
      "\n",
      "         [[True, True],\n",
      "          [True, True]]],\n",
      "\n",
      "\n",
      "        [[[True, True],\n",
      "          [True, True]],\n",
      "\n",
      "         [[True, True],\n",
      "          [True, True]]],\n",
      "\n",
      "\n",
      "        [[[True, True],\n",
      "          [True, True]],\n",
      "\n",
      "         [[True, True],\n",
      "          [True, True]]]])\n"
     ]
    }
   ],
   "source": [
    "print(a[:,1,...] == a[:,1])\n",
    "# print(a[:,1,:])\n",
    "# print(a[:,1])\n"
   ]
  },
  {
   "cell_type": "code",
   "execution_count": 16,
   "metadata": {},
   "outputs": [
    {
     "name": "stdout",
     "output_type": "stream",
     "text": [
      "True\n",
      "torch.Size([200, 20])\n",
      "torch.Size([200, 20])\n"
     ]
    }
   ],
   "source": [
    "size_in = 200\n",
    "size_out = 20\n",
    "\n",
    "\n",
    "\n",
    "weights = torch.empty(\n",
    "                (size_in, size_out), # self.nb_units_by_layer[l : l + 2], @@@@@@@@@@@@@@@@@@\n",
    "            )\n",
    "\n",
    "nb_units_by_layer = (700, 200, 20)\n",
    "\n",
    "\n",
    "l = 1\n",
    "\n",
    "weignt = torch.empty(\n",
    "                nb_units_by_layer[l : l + 2],\n",
    "            )\n",
    "\n",
    "print(weights.shape==weignt.shape)\n",
    "\n",
    "print(weights.shape)\n",
    "print(weignt.shape)"
   ]
  },
  {
   "cell_type": "code",
   "execution_count": 46,
   "metadata": {},
   "outputs": [
    {
     "name": "stdout",
     "output_type": "stream",
     "text": [
      "True\n",
      "False\n",
      "tensor([[[ True,  True,  True,  True,  True,  True],\n",
      "         [ True,  True,  True, False,  True,  True],\n",
      "         [ True,  True,  True,  True,  True,  True],\n",
      "         [ True, False,  True,  True,  True, False]],\n",
      "\n",
      "        [[ True,  True,  True,  True, False,  True],\n",
      "         [ True,  True,  True,  True,  True,  True],\n",
      "         [ True,  True,  True, False,  True,  True],\n",
      "         [ True,  True, False,  True, False,  True]],\n",
      "\n",
      "        [[ True, False,  True,  True, False,  True],\n",
      "         [ True, False,  True,  True, False, False],\n",
      "         [ True, False, False,  True,  True,  True],\n",
      "         [False,  True,  True,  True,  True,  True]]])\n",
      "weighted_spikes_l1.shape: torch.Size([3, 4, 6])\n",
      " linear.shape: torch.Size([3, 4, 6])\n"
     ]
    }
   ],
   "source": [
    "\n",
    "\n",
    "x = torch.rand((3,4,5))\n",
    "weights = torch.rand((5,6))\n",
    "\n",
    "weighted_spikes_l1 = torch.einsum(\n",
    "                    # [b]atches, [t]ime, [i]nput units, [h]idden units\n",
    "                    \"bti,ih->bth\",\n",
    "                    x, weights,\n",
    "                )\n",
    "\n",
    "linear = torch.nn.functional.linear(x,weights.T)\n",
    "\n",
    "\n",
    "#print(f'weighted_spikes_l1 : {weighted_spikes_l1}\\n linear : {linear}')\n",
    "print((weighted_spikes_l1).allclose(linear))\n",
    "\n",
    "print(torch.equal(weighted_spikes_l1, linear))\n",
    "\n",
    "print((weighted_spikes_l1.float()==linear.float()))\n",
    "\n",
    "print(f'weighted_spikes_l1.shape: {weighted_spikes_l1.shape}\\n linear.shape: {linear.shape}')\n",
    "\n",
    "\n"
   ]
  },
  {
   "cell_type": "code",
   "execution_count": 50,
   "metadata": {},
   "outputs": [
    {
     "name": "stdout",
     "output_type": "stream",
     "text": [
      "6\n",
      "True\n",
      "lin.shape: torch.Size([3, 4, 6])\n"
     ]
    }
   ],
   "source": [
    "# x = x.view(-1, 5)\n",
    "# b_size = x.size(0)\n",
    "# #x = linear(x)\n",
    "# x = x.view(b_size, -1, 1)\n",
    "\n",
    "linear_layer = torch.nn.Linear(in_features=5,out_features=6,bias=False, device='cpu')\n",
    "\n",
    "weights2 = linear_layer.weight\n",
    "print(weights2.shape)\n",
    "output_manual = torch.einsum(\n",
    "                    # [b]atches, [t]ime, [i]nput units, [h]idden units\n",
    "                    \"bti,ih->bth\",\n",
    "                    x, weights2.T,\n",
    "                )\n",
    "\n",
    "lin = linear_layer(x)\n",
    "\n",
    "print(torch.allclose(lin,output_manual))\n",
    "print(f'lin.shape: {lin.shape}')\n"
   ]
  },
  {
   "cell_type": "code",
   "execution_count": null,
   "metadata": {},
   "outputs": [],
   "source": []
  }
 ],
 "metadata": {
  "kernelspec": {
   "display_name": "Python 3.8.13 ('teaching')",
   "language": "python",
   "name": "python3"
  },
  "language_info": {
   "codemirror_mode": {
    "name": "ipython",
    "version": 3
   },
   "file_extension": ".py",
   "mimetype": "text/x-python",
   "name": "python",
   "nbconvert_exporter": "python",
   "pygments_lexer": "ipython3",
   "version": "3.8.13"
  },
  "orig_nbformat": 4,
  "vscode": {
   "interpreter": {
    "hash": "2142a618935ee31125fbb97f06401dd4f60968dd5a549a21d575788564038767"
   }
  }
 },
 "nbformat": 4,
 "nbformat_minor": 2
}
