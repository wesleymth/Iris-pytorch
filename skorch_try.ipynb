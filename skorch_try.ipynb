{
 "cells": [
  {
   "cell_type": "code",
   "execution_count": 21,
   "metadata": {},
   "outputs": [],
   "source": [
    "import skorch\n",
    "import torch"
   ]
  },
  {
   "cell_type": "markdown",
   "metadata": {},
   "source": [
    "# Getting the data"
   ]
  },
  {
   "cell_type": "code",
   "execution_count": 22,
   "metadata": {},
   "outputs": [],
   "source": [
    "from sklearn.datasets import load_iris\n",
    "import torch\n",
    "\n",
    "iris=load_iris()\n",
    "X=iris.data\n",
    "y=iris.target\n",
    "\n",
    "X = torch.tensor(X).float()"
   ]
  },
  {
   "cell_type": "markdown",
   "metadata": {},
   "source": [
    "# Making the model"
   ]
  },
  {
   "cell_type": "code",
   "execution_count": 23,
   "metadata": {},
   "outputs": [],
   "source": [
    "\n",
    "import torch.nn as nn       \n",
    "import torch.nn.functional as F \n",
    "\n",
    "class IrisClassifier(nn.Module):\n",
    "    \n",
    "    def __init__(self):\n",
    "        super(IrisClassifier, self).__init__()\n",
    "        self.layer1 = nn.Linear(4, 120)\n",
    "        self.layer2 = nn.Linear(120, 64)\n",
    "        self.layer3 = nn.Linear(64, 12)\n",
    "        self.layer4 = nn.Linear(12, 3)\n",
    "        self.ReLU = nn.ReLU()\n",
    "        \n",
    "        \n",
    "    def forward(self, x):\n",
    "        z = self.ReLU(self.layer1(x))\n",
    "        z = self.ReLU(self.layer2(z))\n",
    "        z = self.ReLU(self.layer3(z))\n",
    "        z = self.ReLU(self.layer4(z))\n",
    "        z = F.softmax(z, dim=1)\n",
    "        return z"
   ]
  },
  {
   "cell_type": "code",
   "execution_count": 24,
   "metadata": {},
   "outputs": [],
   "source": [
    "# Found here : https://www.kaggle.com/code/mohitchaitanya/simple-iris-dataset-classification-using-pytorch\n",
    "\n",
    "class NeuralNetworkClassificationModel(nn.Module):\n",
    "    def __init__(self,input_dim,output_dim):\n",
    "            super(NeuralNetworkClassificationModel,self).__init__()\n",
    "            self.input_layer    = nn.Linear(input_dim,128)\n",
    "            self.hidden_layer1  = nn.Linear(128,64)\n",
    "            self.output_layer   = nn.Linear(64,output_dim)\n",
    "            self.relu = nn.ReLU()\n",
    "    \n",
    "    \n",
    "    def forward(self,x):\n",
    "        out =  self.relu(self.input_layer(x))\n",
    "        out =  self.relu(self.hidden_layer1(out))\n",
    "        out =  self.output_layer(out)\n",
    "        return out"
   ]
  },
  {
   "cell_type": "code",
   "execution_count": 25,
   "metadata": {},
   "outputs": [],
   "source": [
    "# Found here : https://janakiev.com/blog/pytorch-iris/\n",
    "\n",
    "class Model(nn.Module):\n",
    "    def __init__(self, input_dim):\n",
    "        super(Model, self).__init__()\n",
    "        self.layer1 = nn.Linear(input_dim, 50)\n",
    "        self.layer2 = nn.Linear(50, 50)\n",
    "        self.layer3 = nn.Linear(50, 3)\n",
    "        \n",
    "    def forward(self, x):\n",
    "        x = F.relu(self.layer1(x))\n",
    "        x = F.relu(self.layer2(x))\n",
    "        x = F.softmax(self.layer3(x), dim=1)\n",
    "        return x"
   ]
  },
  {
   "cell_type": "markdown",
   "metadata": {},
   "source": [
    "# Calling the fit function"
   ]
  },
  {
   "cell_type": "code",
   "execution_count": 26,
   "metadata": {},
   "outputs": [
    {
     "name": "stdout",
     "output_type": "stream",
     "text": [
      "  epoch    train_loss    valid_acc    valid_loss     dur\n",
      "-------  ------------  -----------  ------------  ------\n",
      "      1        \u001b[36m1.1837\u001b[0m       \u001b[32m0.3333\u001b[0m        \u001b[35m1.1754\u001b[0m  0.0048\n",
      "      2        \u001b[36m1.1758\u001b[0m       0.3333        \u001b[35m1.1676\u001b[0m  0.0044\n",
      "      3        \u001b[36m1.1685\u001b[0m       0.3000        \u001b[35m1.1603\u001b[0m  0.0055\n",
      "      4        \u001b[36m1.1617\u001b[0m       0.1667        \u001b[35m1.1536\u001b[0m  0.0041\n",
      "      5        \u001b[36m1.1554\u001b[0m       0.1000        \u001b[35m1.1473\u001b[0m  0.0037\n",
      "      6        \u001b[36m1.1496\u001b[0m       0.0333        \u001b[35m1.1415\u001b[0m  0.0048\n",
      "      7        \u001b[36m1.1441\u001b[0m       0.0000        \u001b[35m1.1362\u001b[0m  0.0050\n",
      "      8        \u001b[36m1.1392\u001b[0m       0.0333        \u001b[35m1.1311\u001b[0m  0.0109\n",
      "      9        \u001b[36m1.1345\u001b[0m       0.1333        \u001b[35m1.1264\u001b[0m  0.0121\n",
      "     10        \u001b[36m1.1302\u001b[0m       0.3000        \u001b[35m1.1219\u001b[0m  0.0238\n",
      "     11        \u001b[36m1.1260\u001b[0m       0.3333        \u001b[35m1.1177\u001b[0m  0.0191\n",
      "     12        \u001b[36m1.1221\u001b[0m       0.3333        \u001b[35m1.1138\u001b[0m  0.0237\n",
      "     13        \u001b[36m1.1185\u001b[0m       0.3333        \u001b[35m1.1101\u001b[0m  0.0080\n",
      "     14        \u001b[36m1.1150\u001b[0m       0.3333        \u001b[35m1.1065\u001b[0m  0.0041\n",
      "     15        \u001b[36m1.1117\u001b[0m       0.3333        \u001b[35m1.1031\u001b[0m  0.0051\n",
      "     16        \u001b[36m1.1086\u001b[0m       0.3333        \u001b[35m1.0999\u001b[0m  0.0045\n",
      "     17        \u001b[36m1.1056\u001b[0m       0.3333        \u001b[35m1.0968\u001b[0m  0.0045\n",
      "     18        \u001b[36m1.1027\u001b[0m       0.3333        \u001b[35m1.0939\u001b[0m  0.0063\n",
      "     19        \u001b[36m1.1000\u001b[0m       0.3333        \u001b[35m1.0911\u001b[0m  0.0041\n",
      "     20        \u001b[36m1.0973\u001b[0m       0.3333        \u001b[35m1.0884\u001b[0m  0.0074\n",
      "     21        \u001b[36m1.0948\u001b[0m       0.3333        \u001b[35m1.0858\u001b[0m  0.0039\n",
      "     22        \u001b[36m1.0923\u001b[0m       0.3333        \u001b[35m1.0833\u001b[0m  0.0055\n",
      "     23        \u001b[36m1.0900\u001b[0m       0.3333        \u001b[35m1.0808\u001b[0m  0.0056\n",
      "     24        \u001b[36m1.0877\u001b[0m       0.3333        \u001b[35m1.0785\u001b[0m  0.0038\n",
      "     25        \u001b[36m1.0855\u001b[0m       0.3333        \u001b[35m1.0762\u001b[0m  0.0085\n",
      "     26        \u001b[36m1.0833\u001b[0m       0.3333        \u001b[35m1.0739\u001b[0m  0.0095\n",
      "     27        \u001b[36m1.0812\u001b[0m       0.3333        \u001b[35m1.0717\u001b[0m  0.0046\n",
      "     28        \u001b[36m1.0791\u001b[0m       0.3333        \u001b[35m1.0695\u001b[0m  0.0038\n",
      "     29        \u001b[36m1.0770\u001b[0m       0.3333        \u001b[35m1.0674\u001b[0m  0.0057\n",
      "     30        \u001b[36m1.0750\u001b[0m       0.3333        \u001b[35m1.0653\u001b[0m  0.0065\n",
      "     31        \u001b[36m1.0731\u001b[0m       0.3333        \u001b[35m1.0633\u001b[0m  0.0044\n",
      "     32        \u001b[36m1.0713\u001b[0m       0.3333        \u001b[35m1.0614\u001b[0m  0.0051\n",
      "     33        \u001b[36m1.0695\u001b[0m       0.3333        \u001b[35m1.0595\u001b[0m  0.0055\n",
      "     34        \u001b[36m1.0677\u001b[0m       0.3333        \u001b[35m1.0576\u001b[0m  0.0082\n",
      "     35        \u001b[36m1.0660\u001b[0m       0.3333        \u001b[35m1.0558\u001b[0m  0.0047\n",
      "     36        \u001b[36m1.0642\u001b[0m       0.3333        \u001b[35m1.0540\u001b[0m  0.0043\n",
      "     37        \u001b[36m1.0625\u001b[0m       0.3333        \u001b[35m1.0522\u001b[0m  0.0080\n",
      "     38        \u001b[36m1.0608\u001b[0m       0.3333        \u001b[35m1.0504\u001b[0m  0.0063\n",
      "     39        \u001b[36m1.0590\u001b[0m       0.3333        \u001b[35m1.0486\u001b[0m  0.0054\n",
      "     40        \u001b[36m1.0573\u001b[0m       0.3333        \u001b[35m1.0468\u001b[0m  0.0048\n",
      "     41        \u001b[36m1.0555\u001b[0m       0.3333        \u001b[35m1.0450\u001b[0m  0.0065\n",
      "     42        \u001b[36m1.0538\u001b[0m       0.3333        \u001b[35m1.0432\u001b[0m  0.0045\n",
      "     43        \u001b[36m1.0521\u001b[0m       0.3333        \u001b[35m1.0415\u001b[0m  0.1204\n",
      "     44        \u001b[36m1.0506\u001b[0m       0.3333        \u001b[35m1.0399\u001b[0m  0.0212\n",
      "     45        \u001b[36m1.0491\u001b[0m       0.3333        \u001b[35m1.0383\u001b[0m  0.0046\n",
      "     46        \u001b[36m1.0478\u001b[0m       0.3333        \u001b[35m1.0369\u001b[0m  0.0052\n",
      "     47        \u001b[36m1.0465\u001b[0m       0.3333        \u001b[35m1.0355\u001b[0m  0.0046\n",
      "     48        \u001b[36m1.0452\u001b[0m       0.3333        \u001b[35m1.0342\u001b[0m  0.0053\n",
      "     49        \u001b[36m1.0440\u001b[0m       0.3333        \u001b[35m1.0329\u001b[0m  0.0039\n",
      "     50        \u001b[36m1.0429\u001b[0m       0.3333        \u001b[35m1.0316\u001b[0m  0.0057\n",
      "     51        \u001b[36m1.0417\u001b[0m       0.3333        \u001b[35m1.0304\u001b[0m  0.0046\n",
      "     52        \u001b[36m1.0405\u001b[0m       0.3333        \u001b[35m1.0291\u001b[0m  0.0051\n",
      "     53        \u001b[36m1.0394\u001b[0m       0.3333        \u001b[35m1.0279\u001b[0m  0.0055\n",
      "     54        \u001b[36m1.0382\u001b[0m       0.3333        \u001b[35m1.0267\u001b[0m  0.0047\n",
      "     55        \u001b[36m1.0371\u001b[0m       0.3333        \u001b[35m1.0256\u001b[0m  0.0048\n",
      "     56        \u001b[36m1.0360\u001b[0m       0.3333        \u001b[35m1.0244\u001b[0m  0.0048\n",
      "     57        \u001b[36m1.0348\u001b[0m       0.3333        \u001b[35m1.0232\u001b[0m  0.0056\n",
      "     58        \u001b[36m1.0337\u001b[0m       0.3333        \u001b[35m1.0221\u001b[0m  0.0050\n",
      "     59        \u001b[36m1.0326\u001b[0m       0.3333        \u001b[35m1.0209\u001b[0m  0.0047\n",
      "     60        \u001b[36m1.0315\u001b[0m       0.3333        \u001b[35m1.0198\u001b[0m  0.0066\n",
      "     61        \u001b[36m1.0304\u001b[0m       0.3333        \u001b[35m1.0187\u001b[0m  0.0052\n",
      "     62        \u001b[36m1.0293\u001b[0m       0.3333        \u001b[35m1.0176\u001b[0m  0.0054\n",
      "     63        \u001b[36m1.0282\u001b[0m       0.3333        \u001b[35m1.0164\u001b[0m  0.0051\n",
      "     64        \u001b[36m1.0271\u001b[0m       0.3333        \u001b[35m1.0153\u001b[0m  0.0045\n",
      "     65        \u001b[36m1.0260\u001b[0m       0.3333        \u001b[35m1.0142\u001b[0m  0.0055\n",
      "     66        \u001b[36m1.0248\u001b[0m       0.3333        \u001b[35m1.0130\u001b[0m  0.0090\n",
      "     67        \u001b[36m1.0237\u001b[0m       0.3333        \u001b[35m1.0119\u001b[0m  0.0041\n",
      "     68        \u001b[36m1.0226\u001b[0m       0.3333        \u001b[35m1.0108\u001b[0m  0.0057\n",
      "     69        \u001b[36m1.0215\u001b[0m       0.3333        \u001b[35m1.0097\u001b[0m  0.0053\n",
      "     70        \u001b[36m1.0204\u001b[0m       0.3333        \u001b[35m1.0085\u001b[0m  0.0053\n",
      "     71        \u001b[36m1.0193\u001b[0m       0.3333        \u001b[35m1.0074\u001b[0m  0.0047\n",
      "     72        \u001b[36m1.0182\u001b[0m       0.3333        \u001b[35m1.0063\u001b[0m  0.0070\n",
      "     73        \u001b[36m1.0171\u001b[0m       0.3333        \u001b[35m1.0051\u001b[0m  0.0123\n",
      "     74        \u001b[36m1.0160\u001b[0m       0.3333        \u001b[35m1.0040\u001b[0m  0.0145\n",
      "     75        \u001b[36m1.0149\u001b[0m       0.3333        \u001b[35m1.0029\u001b[0m  0.0069\n",
      "     76        \u001b[36m1.0138\u001b[0m       0.3333        \u001b[35m1.0017\u001b[0m  0.0088\n",
      "     77        \u001b[36m1.0127\u001b[0m       0.3333        \u001b[35m1.0006\u001b[0m  0.0045\n",
      "     78        \u001b[36m1.0116\u001b[0m       0.3333        \u001b[35m0.9995\u001b[0m  0.0300\n",
      "     79        \u001b[36m1.0105\u001b[0m       0.3333        \u001b[35m0.9983\u001b[0m  0.0078\n",
      "     80        \u001b[36m1.0094\u001b[0m       0.3333        \u001b[35m0.9972\u001b[0m  0.0068\n",
      "     81        \u001b[36m1.0083\u001b[0m       0.3333        \u001b[35m0.9961\u001b[0m  0.0138\n",
      "     82        \u001b[36m1.0072\u001b[0m       0.3333        \u001b[35m0.9950\u001b[0m  0.0079\n",
      "     83        \u001b[36m1.0061\u001b[0m       0.3333        \u001b[35m0.9938\u001b[0m  0.0161\n",
      "     84        \u001b[36m1.0050\u001b[0m       0.3333        \u001b[35m0.9927\u001b[0m  0.0054\n",
      "     85        \u001b[36m1.0039\u001b[0m       0.3333        \u001b[35m0.9915\u001b[0m  0.0073\n",
      "     86        \u001b[36m1.0028\u001b[0m       0.3333        \u001b[35m0.9904\u001b[0m  0.0072\n",
      "     87        \u001b[36m1.0017\u001b[0m       0.3333        \u001b[35m0.9893\u001b[0m  0.0050\n",
      "     88        \u001b[36m1.0006\u001b[0m       0.3333        \u001b[35m0.9881\u001b[0m  0.0067\n",
      "     89        \u001b[36m0.9995\u001b[0m       \u001b[32m0.3667\u001b[0m        \u001b[35m0.9870\u001b[0m  0.0047\n",
      "     90        \u001b[36m0.9983\u001b[0m       0.3667        \u001b[35m0.9859\u001b[0m  0.0069\n",
      "     91        \u001b[36m0.9972\u001b[0m       \u001b[32m0.4000\u001b[0m        \u001b[35m0.9847\u001b[0m  0.0048\n",
      "     92        \u001b[36m0.9961\u001b[0m       0.4000        \u001b[35m0.9836\u001b[0m  0.0056\n",
      "     93        \u001b[36m0.9950\u001b[0m       0.4000        \u001b[35m0.9825\u001b[0m  0.0048\n",
      "     94        \u001b[36m0.9939\u001b[0m       0.4000        \u001b[35m0.9813\u001b[0m  0.0064\n",
      "     95        \u001b[36m0.9928\u001b[0m       \u001b[32m0.4333\u001b[0m        \u001b[35m0.9802\u001b[0m  0.0045\n",
      "     96        \u001b[36m0.9917\u001b[0m       0.4333        \u001b[35m0.9791\u001b[0m  0.0046\n",
      "     97        \u001b[36m0.9906\u001b[0m       \u001b[32m0.5000\u001b[0m        \u001b[35m0.9779\u001b[0m  0.0082\n",
      "     98        \u001b[36m0.9895\u001b[0m       0.5000        \u001b[35m0.9768\u001b[0m  0.0086\n",
      "     99        \u001b[36m0.9884\u001b[0m       \u001b[32m0.5333\u001b[0m        \u001b[35m0.9756\u001b[0m  0.0052\n",
      "    100        \u001b[36m0.9872\u001b[0m       0.5333        \u001b[35m0.9745\u001b[0m  0.0079\n"
     ]
    },
    {
     "data": {
      "text/plain": [
       "<class 'skorch.classifier.NeuralNetClassifier'>[initialized](\n",
       "  module_=NeuralNetworkClassificationModel(\n",
       "    (input_layer): Linear(in_features=4, out_features=128, bias=True)\n",
       "    (hidden_layer1): Linear(in_features=128, out_features=64, bias=True)\n",
       "    (output_layer): Linear(in_features=64, out_features=3, bias=True)\n",
       "    (relu): ReLU()\n",
       "  ),\n",
       ")"
      ]
     },
     "execution_count": 26,
     "metadata": {},
     "output_type": "execute_result"
    }
   ],
   "source": [
    "from skorch import NeuralNetClassifier\n",
    "import torch\n",
    "\n",
    "net = NeuralNetClassifier(\n",
    "    NeuralNetworkClassificationModel(4,3),\n",
    "    max_epochs=100,\n",
    "    lr=1e-3,\n",
    "    batch_size=64,\n",
    "    optimizer=torch.optim.SGD,\n",
    "    criterion=torch.nn.CrossEntropyLoss,\n",
    "    \n",
    ")\n",
    "\n",
    "net.fit(X,y=y)"
   ]
  },
  {
   "cell_type": "code",
   "execution_count": 27,
   "metadata": {},
   "outputs": [
    {
     "data": {
      "image/png": "[encoded data removed]",
      "text/plain": [
       "<Figure size 720x576 with 1 Axes>"
      ]
     },
     "metadata": {
      "needs_background": "light"
     },
     "output_type": "display_data"
    }
   ],
   "source": [
    "import matplotlib.pyplot as plt\n",
    "\n",
    "\n",
    "val_loss=[]\n",
    "train_loss=[]\n",
    "for i in range(10):\n",
    "    val_loss.append(net.history[i]['valid_loss'])\n",
    "    train_loss.append(net.history[i]['train_loss'])\n",
    "    \n",
    "plt.figure(figsize=(10,8))\n",
    "plt.semilogy(train_loss, label='Train loss')\n",
    "plt.semilogy(val_loss, label='Validation loss')\n",
    "plt.xlabel('Epoch')\n",
    "plt.ylabel('Loss')\n",
    "plt.grid()\n",
    "plt.legend()\n",
    "plt.show()    "
   ]
  }
 ],
 "metadata": {
  "kernelspec": {
   "display_name": "Python 3.8.13 ('teaching')",
   "language": "python",
   "name": "python3"
  },
  "language_info": {
   "codemirror_mode": {
    "name": "ipython",
    "version": 3
   },
   "file_extension": ".py",
   "mimetype": "text/x-python",
   "name": "python",
   "nbconvert_exporter": "python",
   "pygments_lexer": "ipython3",
   "version": "3.8.13"
  },
  "orig_nbformat": 4,
  "vscode": {
   "interpreter": {
    "hash": "2142a618935ee31125fbb97f06401dd4f60968dd5a549a21d575788564038767"
   }
  }
 },
 "nbformat": 4,
 "nbformat_minor": 2
}
